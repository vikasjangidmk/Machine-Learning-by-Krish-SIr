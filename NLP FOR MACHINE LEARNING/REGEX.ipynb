{
 "cells": [
  {
   "cell_type": "markdown",
   "metadata": {},
   "source": [
    "Regular expressions (regex) are powerful tools for text preprocessing in tasks like data cleaning, tokenization, and standardization. Here are some commonly used regex patterns and how they are applied for different preprocessing steps:"
   ]
  },
  {
   "cell_type": "markdown",
   "metadata": {},
   "source": [
    "**1. Removing Punctuation:-**\n",
    "To clean out punctuation"
   ]
  },
  {
   "cell_type": "code",
   "execution_count": 1,
   "metadata": {},
   "outputs": [
    {
     "data": {
      "text/plain": [
       "'Hello World This is a test'"
      ]
     },
     "execution_count": 1,
     "metadata": {},
     "output_type": "execute_result"
    }
   ],
   "source": [
    "import re\n",
    "\n",
    "text = \"Hello, World! This is a test.\"\n",
    "cleaned_text = re.sub(r'[^\\w\\s]', '', text)\n",
    "cleaned_text\n",
    "# Output: 'Hello World This is a test'\n"
   ]
  },
  {
   "cell_type": "markdown",
   "metadata": {},
   "source": [
    "**2. Lowercasing All Words:-**\n",
    "Uniform casing helps in reducing variations:"
   ]
  },
  {
   "cell_type": "code",
   "execution_count": 2,
   "metadata": {},
   "outputs": [
    {
     "data": {
      "text/plain": [
       "'hello world'"
      ]
     },
     "execution_count": 2,
     "metadata": {},
     "output_type": "execute_result"
    }
   ],
   "source": [
    "text = \"HELLO World\"\n",
    "cleaned_text = text.lower()\n",
    "cleaned_text\n",
    "# Output: 'hello world'\n"
   ]
  },
  {
   "cell_type": "markdown",
   "metadata": {},
   "source": [
    "**3. Removing Numbers:-**\n",
    "Remove digits from the text, helpful in text analysis tasks:"
   ]
  },
  {
   "cell_type": "code",
   "execution_count": 3,
   "metadata": {},
   "outputs": [
    {
     "data": {
      "text/plain": [
       "'There are  apples and  oranges.'"
      ]
     },
     "execution_count": 3,
     "metadata": {},
     "output_type": "execute_result"
    }
   ],
   "source": [
    "text = \"There are 2 apples and 3 oranges.\"\n",
    "cleaned_text = re.sub(r'\\d+', '', text)\n",
    "cleaned_text\n",
    "# Output: 'There are  apples and  oranges.'\n"
   ]
  },
  {
   "cell_type": "markdown",
   "metadata": {},
   "source": [
    "**4. Removing Extra Whitespace:-**\n",
    "To reduce multiple spaces to a single space:"
   ]
  },
  {
   "cell_type": "code",
   "execution_count": 4,
   "metadata": {},
   "outputs": [
    {
     "data": {
      "text/plain": [
       "'This is a test.'"
      ]
     },
     "execution_count": 4,
     "metadata": {},
     "output_type": "execute_result"
    }
   ],
   "source": [
    "text = \"This   is    a    test.\"\n",
    "cleaned_text = re.sub(r'\\s+', ' ', text).strip()\n",
    "# Output: 'This is a test'\n",
    "cleaned_text"
   ]
  },
  {
   "cell_type": "markdown",
   "metadata": {},
   "source": [
    "**5. Removing HTML Tags:-**\n",
    "Useful when dealing with web-scraped data"
   ]
  },
  {
   "cell_type": "code",
   "execution_count": 5,
   "metadata": {},
   "outputs": [
    {
     "data": {
      "text/plain": [
       "'Hello, World!'"
      ]
     },
     "execution_count": 5,
     "metadata": {},
     "output_type": "execute_result"
    }
   ],
   "source": [
    "text = \"<p>Hello, <b>World</b>!</p>\"\n",
    "cleaned_text = re.sub(r'<.*?>', '', text)\n",
    "# Output: 'Hello, World!'\n",
    "cleaned_text"
   ]
  },
  {
   "cell_type": "markdown",
   "metadata": {},
   "source": [
    "**6. Extracting Email Addresses:-**\n",
    "To find and extract email addresses"
   ]
  },
  {
   "cell_type": "code",
   "execution_count": 6,
   "metadata": {},
   "outputs": [
    {
     "data": {
      "text/plain": [
       "['support@example.com', 'admin@domain.com']"
      ]
     },
     "execution_count": 6,
     "metadata": {},
     "output_type": "execute_result"
    }
   ],
   "source": [
    "text = \"Contact us at support@example.com or admin@domain.com\"\n",
    "emails = re.findall(r'[a-zA-Z0-9._%+-]+@[a-zA-Z0-9.-]+\\.[a-zA-Z]{2,}', text)\n",
    "# Output: ['support@example.com', 'admin@domain.com']\n",
    "emails"
   ]
  },
  {
   "cell_type": "markdown",
   "metadata": {},
   "source": [
    "**7. Extracting URLs:-**\n",
    "Identifies and extracts URLs from tex"
   ]
  },
  {
   "cell_type": "code",
   "execution_count": 7,
   "metadata": {},
   "outputs": [
    {
     "data": {
      "text/plain": [
       "['https://example.com']"
      ]
     },
     "execution_count": 7,
     "metadata": {},
     "output_type": "execute_result"
    }
   ],
   "source": [
    "text = \"Visit https://example.com for more details.\"\n",
    "urls = re.findall(r'https?://\\S+', text)\n",
    "# Output: ['https://example.com']\n",
    "urls"
   ]
  },
  {
   "cell_type": "markdown",
   "metadata": {},
   "source": [
    "**8. Removing Stop Words (using regex with a predefined stop word list)**\n",
    "For stop word remova"
   ]
  },
  {
   "cell_type": "code",
   "execution_count": 8,
   "metadata": {},
   "outputs": [
    {
     "data": {
      "text/plain": [
       "'This is a simple test.'"
      ]
     },
     "execution_count": 8,
     "metadata": {},
     "output_type": "execute_result"
    }
   ],
   "source": [
    "stop_words = r'\\b(?:is|a|at|the|on|in|and|or|to|of)\\b'\n",
    "text = \"This is a simple test.\"\n",
    "cleaned_text = re.sub(stop_words, '', text)\n",
    "# Output: 'This  simple test.'\n",
    "text"
   ]
  },
  {
   "cell_type": "markdown",
   "metadata": {},
   "source": [
    "| Preprocessing Task            | Regex Pattern                                              | Description                                                        |\n",
    "|-------------------------------|----------------------------------------------------------|--------------------------------------------------------------------|\n",
    "| Remove Punctuation            | `r'[^\\w\\s]'`                                            | Removes all characters except word characters and whitespace.      |\n",
    "| Lowercase All Words           | `text.lower()`                                         | Converts all characters in the text to lowercase.                 |\n",
    "| Remove Numbers                | `r'\\d+'`                                               | Removes all digit characters from the text.                        |\n",
    "| Remove Extra Whitespace       | `r'\\s+'`                                               | Replaces multiple whitespace characters with a single space.       |\n",
    "| Remove HTML Tags              | `r'<.*?>'`                                            | Removes all HTML tags from the text.                              |\n",
    "| Extract Email Addresses       | `r'[a-zA-Z0-9._%+-]+@[a-zA-Z0-9.-]+\\.[a-zA-Z]{2,}'`  | Matches valid email addresses.                                    |\n",
    "| Extract URLs                  | `r'https?://\\S+'`                                     | Matches URLs that start with http or https.                       |\n",
    "| Remove Stop Words             | `r'\\b(?P<stopword>\\w+)\\b'`                            | Matches and removes specified stop words from the text.           |\n",
    "| Remove Lowercase Letters      | `r'[a-z]'`                                            | Removes all lowercase letters from the text.                      |\n",
    "| Remove Uppercase Letters      | `r'[A-Z]'`                                            | Removes all uppercase letters from the text.                      |\n",
    "| Remove Alphabetic Characters   | `r'[A-Za-z]'`                                         | Removes all alphabetic characters, both uppercase and lowercase.  |\n",
    "| Keep Only Alphabetic Characters | `r'[^A-Za-z]'`                                       | Removes all non-alphabetic characters, keeping only letters.     |\n"
   ]
  },
  {
   "cell_type": "markdown",
   "metadata": {},
   "source": [
    "1. **Character Classes**\n",
    "   - **[abc]**: Matches any single character that is either a, b, or c.\n",
    "     - **Example**: `re.search(r'[abc]', 'cat')` matches `a` in \"cat\".\n",
    "   - **[^abc]**: Matches any character that is not a, b, or c.\n",
    "     - **Example**: `re.search(r'[^abc]', 'def')` matches `d` in \"def\".\n",
    "   - **[a-z]**: Matches any lowercase letter from a to z.\n",
    "     - **Example**: `re.search(r'[a-z]', 'Hello')` matches `e` in \"Hello\".\n",
    "   - **[A-Z]**: Matches any uppercase letter from A to Z.\n",
    "     - **Example**: `re.search(r'[A-Z]', 'hello')` matches `H` in \"Hello\".\n",
    "   - **[0-9]**: Matches any digit from 0 to 9.\n",
    "     - **Example**: `re.search(r'[0-9]', 'Room 101')` matches `1` in \"Room 101\".\n",
    "\n",
    "2. **Quantifiers**\n",
    "   - **\\***: Matches zero or more occurrences of the preceding element.\n",
    "     - **Example**: `re.search(r'lo*se', 'loose')` matches `loose`.\n",
    "   - **\\+**: Matches one or more occurrences of the preceding element.\n",
    "     - **Example**: `re.search(r'lo+se', 'loose')` matches `loose`.\n",
    "   - **\\?**: Matches zero or one occurrence of the preceding element.\n",
    "     - **Example**: `re.search(r'lo?se', 'lse')` matches `lse`.\n",
    "   - **{n}**: Matches exactly n occurrences of the preceding element.\n",
    "     - **Example**: `re.search(r'o{2}', 'foo')` matches `oo` in \"foo\".\n",
    "   - **{n,}**: Matches n or more occurrences of the preceding element.\n",
    "     - **Example**: `re.search(r'o{2,}', 'fooo')` matches `oo` in \"fooo\".\n",
    "   - **{n,m}**: Matches between n and m occurrences of the preceding element.\n",
    "     - **Example**: `re.search(r'o{1,2}', 'fooo')` matches `o` in \"fooo\".\n",
    "\n",
    "3. **Anchors**\n",
    "   - **^**: Matches the start of the string.\n",
    "     - **Example**: `re.search(r'^Hello', 'Hello World')` matches `Hello`.\n",
    "   - **$**: Matches the end of the string.\n",
    "     - **Example**: `re.search(r'World$', 'Hello World')` matches `World`.\n",
    "\n",
    "4. **Special Sequences**\n",
    "   - **\\d**: Matches any digit (equivalent to [0-9]).\n",
    "     - **Example**: `re.search(r'\\d', 'Room 101')` matches `1`.\n",
    "   - **\\D**: Matches any non-digit character.\n",
    "     - **Example**: `re.search(r'\\D', 'Room 101')` matches `R`.\n",
    "   - **\\w**: Matches any alphanumeric character (equivalent to [a-zA-Z0-9_]).\n",
    "     - **Example**: `re.search(r'\\w', 'Hello!')` matches `H`.\n",
    "   - **\\W**: Matches any non-alphanumeric character.\n",
    "     - **Example**: `re.search(r'\\W', 'Hello!')` matches `!`.\n",
    "   - **\\s**: Matches any whitespace character (spaces, tabs, newlines).\n",
    "     - **Example**: `re.search(r'\\s', 'Hello World')` matches the space between \"Hello\" and \"World\".\n",
    "   - **\\S**: Matches any non-whitespace character.\n",
    "     - **Example**: `re.search(r'\\S', ' Hello ')` matches `H`.\n",
    "\n",
    "5. **Grouping and Capturing**\n",
    "   - **(abc)**: Matches the exact sequence \"abc\".\n",
    "     - **Example**: `re.search(r'(abc)', 'abc def')` matches `abc`.\n",
    "   - **a(bc)**: Matches \"a\" followed by \"bc\", capturing \"bc\".\n",
    "     - **Example**: `re.search(r'a(bc)', 'abc')` captures `bc`.\n",
    "   - **(?:abc)**: Matches \"abc\" but does not capture the group.\n",
    "     - **Example**: `re.search(r'(?:abc)', 'abc def')` matches `abc` without capturing.\n",
    "\n",
    "6. **Alternation**\n",
    "   - **a|b**: Matches either \"a\" or \"b\".\n",
    "     - **Example**: `re.search(r'a|b', 'cat')` matches `a`.\n",
    "   - **cat|dog**: Matches either \"cat\" or \"dog\".\n",
    "     - **Example**: `re.search(r'cat|dog', 'I have a dog')` matches `dog`.\n",
    "\n",
    "7. **Lookahead and Lookbehind**\n",
    "   - **(?=abc)**: Positive lookahead for \"abc\".\n",
    "     - **Example**: `re.search(r'(?=abc)', 'abc def')` matches the position before `abc`.\n",
    "   - **(?!abc)**: Negative lookahead; asserts \"abc\" does not follow.\n",
    "     - **Example**: `re.search(r'(?!abc)', 'def')` matches the position in `def`.\n",
    "   - **(?<=abc)**: Positive lookbehind for \"abc\".\n",
    "     - **Example**: `re.search(r'(?<=abc)', 'abcdef')` matches the position after `abc`.\n",
    "   - **(?<!abc)**: Negative lookbehind; asserts \"abc\" does not precede.\n",
    "     - **Example**: `re.search(r'(?<!abc)', 'def')` matches the position in `def`.\n",
    "\n",
    "8. **Flags**\n",
    "   - **re.IGNORECASE**: Makes the pattern case-insensitive.\n",
    "     - **Example**: `re.search(r'hello', 'Hello', re.IGNORECASE)` matches `Hello`.\n",
    "   - **re.MULTILINE**: Allows `^` and `$` to match start and end of lines.\n",
    "     - **Example**: `re.findall(r'^\\w+', 'Line 1\\nLine 2', re.MULTILINE)` matches `Line` in both lines.\n",
    "   - **re.DOTALL**: Allows `.` to match newline characters.\n",
    "     - **Example**: `re.search(r'.+', 'First line\\nSecond line', re.DOTALL)` matches the entire text.\n"
   ]
  },
  {
   "cell_type": "code",
   "execution_count": 10,
   "metadata": {},
   "outputs": [
    {
     "name": "stdout",
     "output_type": "stream",
     "text": [
      "Character Classes:\n",
      "Matches [abc]: a\n",
      "Matches [^abc]: H\n",
      "Matches [a-z]: e\n",
      "Matches [A-Z]: H\n",
      "Matches [0-9]: 1\n",
      "\n",
      "Quantifiers:\n",
      "Matches lo*se: loose\n",
      "Matches lo+se: loose\n",
      "Matches lo?se: lse\n",
      "Matches o{2}: oo\n",
      "Matches o{2,}: ooo\n",
      "Matches o{1,2}: oo\n",
      "\n",
      "Anchors:\n",
      "Matches ^Hello: Hello\n",
      "No match found for World$.\n",
      "\n",
      "Special Sequences:\n",
      "Matches \\d: 1\n",
      "Matches \\D: R\n",
      "Matches \\w: H\n",
      "Matches \\W: !\n",
      "Matches \\s:  \n",
      "Matches \\S: H\n",
      "\n",
      "Grouping and Capturing:\n",
      "Matches (abc): abc\n",
      "Matches a(bc): bc\n",
      "Matches (?:abc): abc\n",
      "\n",
      "Alternation:\n",
      "Matches a|b: a\n",
      "Matches cat|dog: dog\n",
      "\n",
      "Lookahead and Lookbehind:\n",
      "Matches (?=abc): <re.Match object; span=(0, 0), match=''>\n",
      "Matches (?!abc): <re.Match object; span=(0, 0), match=''>\n",
      "Matches (?<=abc): <re.Match object; span=(3, 3), match=''>\n",
      "Matches (?<!abc): <re.Match object; span=(0, 0), match=''>\n",
      "\n",
      "Flags:\n",
      "Matches re.IGNORECASE: Hello\n",
      "Matches re.MULTILINE: ['Line', 'Line']\n",
      "Matches re.DOTALL: First line\n",
      "Second line\n"
     ]
    }
   ],
   "source": [
    "import re\n",
    "\n",
    "# Sample text\n",
    "text = 'Hello World This is a test'\n",
    "\n",
    "# Character Classes\n",
    "print(\"Character Classes:\")\n",
    "print(\"Matches [abc]:\", re.search(r'[abc]', text).group())  # Matches any a, b, or c\n",
    "print(\"Matches [^abc]:\", re.search(r'[^abc]', text).group())  # Matches any character that is not a, b, or c\n",
    "print(\"Matches [a-z]:\", re.search(r'[a-z]', text).group())  # Matches any lowercase letter\n",
    "print(\"Matches [A-Z]:\", re.search(r'[A-Z]', text).group())  # Matches any uppercase letter\n",
    "print(\"Matches [0-9]:\", re.search(r'[0-9]', text + ' 1').group())  # Matches any digit\n",
    "\n",
    "# Quantifiers\n",
    "print(\"\\nQuantifiers:\")\n",
    "print(\"Matches lo*se:\", re.search(r'lo*se', 'loose').group())  # Matches zero or more occurrences of 'o'\n",
    "print(\"Matches lo+se:\", re.search(r'lo+se', 'loose').group())  # Matches one or more occurrences of 'o'\n",
    "print(\"Matches lo?se:\", re.search(r'lo?se', 'lse').group())  # Matches zero or one occurrence of 'o'\n",
    "print(\"Matches o{2}:\", re.search(r'o{2}', 'foo').group())  # Matches exactly 2 occurrences of 'o'\n",
    "print(\"Matches o{2,}:\", re.search(r'o{2,}', 'fooo').group())  # Matches 2 or more occurrences of 'o'\n",
    "print(\"Matches o{1,2}:\", re.search(r'o{1,2}', 'fooo').group())  # Matches 1 or 2 occurrences of 'o'\n",
    "\n",
    "# Anchors\n",
    "print(\"\\nAnchors:\")\n",
    "print(\"Matches ^Hello:\", re.search(r'^Hello', text).group())  # Matches if starts with \"Hello\"\n",
    "\n",
    "# Check for match before accessing group\n",
    "match = re.search(r'World$', text)\n",
    "if match:\n",
    "    print(\"Matches World$:\", match.group())  # Matches if ends with \"World\"\n",
    "else:\n",
    "    print(\"No match found for World$.\")\n",
    "\n",
    "# Special Sequences\n",
    "print(\"\\nSpecial Sequences:\")\n",
    "print(\"Matches \\\\d:\", re.search(r'\\d', 'Room 101').group())  # Matches any digit\n",
    "print(\"Matches \\\\D:\", re.search(r'\\D', 'Room 101').group())  # Matches any non-digit\n",
    "print(\"Matches \\\\w:\", re.search(r'\\w', 'Hello!').group())  # Matches any alphanumeric character\n",
    "print(\"Matches \\\\W:\", re.search(r'\\W', 'Hello!').group())  # Matches any non-alphanumeric character\n",
    "print(\"Matches \\\\s:\", re.search(r'\\s', 'Hello World').group())  # Matches any whitespace\n",
    "print(\"Matches \\\\S:\", re.search(r'\\S', ' Hello ').group())  # Matches any non-whitespace\n",
    "\n",
    "# Grouping and Capturing\n",
    "print(\"\\nGrouping and Capturing:\")\n",
    "print(\"Matches (abc):\", re.search(r'(abc)', 'abc def').group())  # Matches \"abc\"\n",
    "print(\"Matches a(bc):\", re.search(r'a(bc)', 'abc').group(1))  # Captures \"bc\"\n",
    "print(\"Matches (?:abc):\", re.search(r'(?:abc)', 'abc def').group())  # Matches \"abc\" without capturing\n",
    "\n",
    "# Alternation\n",
    "print(\"\\nAlternation:\")\n",
    "print(\"Matches a|b:\", re.search(r'a|b', 'cat').group())  # Matches \"a\" or \"b\"\n",
    "print(\"Matches cat|dog:\", re.search(r'cat|dog', 'I have a dog').group())  # Matches \"dog\"\n",
    "\n",
    "# Lookahead and Lookbehind\n",
    "print(\"\\nLookahead and Lookbehind:\")\n",
    "print(\"Matches (?=abc):\", re.search(r'(?=abc)', 'abc def'))  # Positive lookahead (position before \"abc\")\n",
    "print(\"Matches (?!abc):\", re.search(r'(?!abc)', 'def'))  # Negative lookahead (position in \"def\")\n",
    "print(\"Matches (?<=abc):\", re.search(r'(?<=abc)', 'abcdef'))  # Positive lookbehind (position after \"abc\")\n",
    "print(\"Matches (?<!abc):\", re.search(r'(?<!abc)', 'def'))  # Negative lookbehind (position in \"def\")\n",
    "\n",
    "# Flags\n",
    "print(\"\\nFlags:\")\n",
    "print(\"Matches re.IGNORECASE:\", re.search(r'hello', 'Hello', re.IGNORECASE).group())  # Case-insensitive\n",
    "print(\"Matches re.MULTILINE:\", re.findall(r'^\\w+', 'Line 1\\nLine 2', re.MULTILINE))  # Matches start of lines\n",
    "print(\"Matches re.DOTALL:\", re.search(r'.+', 'First line\\nSecond line', re.DOTALL).group())  # Matches entire text\n"
   ]
  },
  {
   "cell_type": "code",
   "execution_count": 11,
   "metadata": {},
   "outputs": [
    {
     "name": "stdout",
     "output_type": "stream",
     "text": [
      "The End\n"
     ]
    }
   ],
   "source": [
    "print(\"The End\")"
   ]
  }
 ],
 "metadata": {
  "kernelspec": {
   "display_name": "base",
   "language": "python",
   "name": "python3"
  },
  "language_info": {
   "codemirror_mode": {
    "name": "ipython",
    "version": 3
   },
   "file_extension": ".py",
   "mimetype": "text/x-python",
   "name": "python",
   "nbconvert_exporter": "python",
   "pygments_lexer": "ipython3",
   "version": "3.12.3"
  }
 },
 "nbformat": 4,
 "nbformat_minor": 2
}
